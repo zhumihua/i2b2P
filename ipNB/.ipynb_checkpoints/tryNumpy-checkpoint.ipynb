{
 "metadata": {
  "name": "",
  "signature": "sha256:734bceb375591ea5631ccb32bb11055d093d4d4c0ef40bdd83f7e6725dc8c078"
 },
 "nbformat": 3,
 "nbformat_minor": 0,
 "worksheets": [
  {
   "cells": [
    {
     "cell_type": "code",
     "collapsed": false,
     "input": [
      "#http://sebastianraschka.com/Articles/2014_matlab_vs_numpy.html\n",
      "import numpy as np\n",
      "A=np.array([[1,2,3],[4,5,6],[7,8,9]])\n",
      "tuple_dim=A.shape\n",
      "B=A[0,:]\n",
      "C=A[0:2,:]\n",
      "sub_A=A[A[:,2] == 9]\n",
      "transpose_A=A[np.newaxis].T\n",
      "transpose_A2=A[:,np.newaxis]\n",
      "#row concatenate, axis=0\n",
      "concatenateA_A=np.concatenate((A,A),axis=0)\n",
      "zerosArray=np.zeros((3,2))\n",
      "onesArray=np.ones([3,2])\n",
      "eyeArrays=np.eye(3)\n",
      "#create diagonal matrix\n",
      "a=np.array([1,2,3])\n",
      "print a\n",
      "#load files\n",
      "# f = open(\"filename.txt\")\n",
      "# f.readline()  # skip the header\n",
      "# data = np.loadtxt(f)\n",
      "\n"
     ],
     "language": "python",
     "metadata": {},
     "outputs": [
      {
       "output_type": "stream",
       "stream": "stdout",
       "text": [
        "[1 2 3]\n"
       ]
      }
     ],
     "prompt_number": 4
    },
    {
     "cell_type": "code",
     "collapsed": false,
     "input": [
      "from sklarn import datasets\n",
      "iris=datasets.load_iris()\n",
      "digits=dataset.load_digits()\n",
      "print(digits.data)"
     ],
     "language": "python",
     "metadata": {},
     "outputs": []
    }
   ],
   "metadata": {}
  }
 ]
}